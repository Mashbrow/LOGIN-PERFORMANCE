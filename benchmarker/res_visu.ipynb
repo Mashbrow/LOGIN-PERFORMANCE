{
 "cells": [
  {
   "cell_type": "code",
   "execution_count": 52,
   "metadata": {},
   "outputs": [],
   "source": [
    "import csv\n",
    "import glob\n",
    "import os\n",
    "from urllib import request\n",
    "import numpy as np\n",
    "\n",
    "##########PARSER###########\n",
    "\n",
    "#Request of size request_size\n",
    "bg_request_rest = []\n",
    "bg_request_grpc = []\n",
    "bg_request_gql = []\n",
    "\n",
    "#Partial request of size request_size\n",
    "p_request_rest = []\n",
    "p_request_grpc = []\n",
    "p_request_gql = []\n",
    "\n",
    "\n",
    "request_size = []\n",
    "existing_files = sorted(glob.glob(glob.escape(\"./results/\") + \"*.csv\"), key=os.path.getmtime)\n",
    "existing_files = [os.path.basename(s) for s in existing_files]\n",
    "\n",
    "for f in existing_files:\n",
    "    l = []\n",
    "    with open('./results/'+f, newline='') as csvfile:\n",
    "        spamreader = csv.reader(csvfile, delimiter=',')\n",
    "        for row in spamreader:\n",
    "            if row != []:\n",
    "                l.append([float(r) for r in row])\n",
    "        \n",
    "    bg_request_grpc.append(l[1][0])\n",
    "    bg_request_rest.append(l[2][0])\n",
    "    bg_request_gql.append(l[3][0])\n",
    "\n",
    "    p_request_rest.append(l[2][2])\n",
    "    p_request_gql.append(l[3][2])\n",
    "\n",
    "    request_size.append(l[0][0])\n"
   ]
  },
  {
   "cell_type": "code",
   "execution_count": 61,
   "metadata": {},
   "outputs": [
    {
     "data": {
      "text/plain": [
       "0.010894404517279731"
      ]
     },
     "execution_count": 61,
     "metadata": {},
     "output_type": "execute_result"
    }
   ],
   "source": [
    "np.array(bg_request_gql[10:19]).mean()"
   ]
  },
  {
   "cell_type": "code",
   "execution_count": 60,
   "metadata": {},
   "outputs": [
    {
     "data": {
      "text/plain": [
       "0.0007049011231607783"
      ]
     },
     "execution_count": 60,
     "metadata": {},
     "output_type": "execute_result"
    }
   ],
   "source": [
    "np.array(bg_request_gql[:9]).std()"
   ]
  },
  {
   "cell_type": "code",
   "execution_count": 62,
   "metadata": {},
   "outputs": [
    {
     "name": "stdout",
     "output_type": "stream",
     "text": [
      "^C\n"
     ]
    }
   ],
   "source": [
    "!python -m pip install plotly"
   ]
  },
  {
   "cell_type": "code",
   "execution_count": null,
   "metadata": {},
   "outputs": [],
   "source": []
  }
 ],
 "metadata": {
  "kernelspec": {
   "display_name": "Python 3.9.0 ('ms-tp4': venv)",
   "language": "python",
   "name": "python3"
  },
  "language_info": {
   "codemirror_mode": {
    "name": "ipython",
    "version": 3
   },
   "file_extension": ".py",
   "mimetype": "text/x-python",
   "name": "python",
   "nbconvert_exporter": "python",
   "pygments_lexer": "ipython3",
   "version": "3.9.0"
  },
  "orig_nbformat": 4,
  "vscode": {
   "interpreter": {
    "hash": "c36bfdc78b7127d5493f1b1befda8042a11e0035147e80c2247a0224832c5e5b"
   }
  }
 },
 "nbformat": 4,
 "nbformat_minor": 2
}
